{
 "cells": [
  {
   "cell_type": "code",
   "execution_count": 1,
   "id": "aeae2e43",
   "metadata": {},
   "outputs": [],
   "source": [
    "from selenium import webdriver\n",
    "from selenium.webdriver.common.by import By\n",
    "from selenium.webdriver.chrome.service import Service\n",
    "from selenium.webdriver.chrome.options import Options\n",
    "from selenium.webdriver.common.keys import Keys\n",
    "import pandas as pd\n",
    "import time"
   ]
  },
  {
   "cell_type": "code",
   "execution_count": 2,
   "id": "77075024",
   "metadata": {},
   "outputs": [],
   "source": [
    "website = 'https://in.indeed.com/'\n",
    "path = Service('/chromedriver.exe')  #path to chromedriver\n",
    "driver = webdriver.Chrome(service=path)\n",
    "driver.get(website)\n",
    "driver.maximize_window()"
   ]
  },
  {
   "cell_type": "code",
   "execution_count": 3,
   "id": "d3354f1f",
   "metadata": {},
   "outputs": [
    {
     "name": "stdout",
     "output_type": "stream",
     "text": [
      "job title/keyword:Data Science\n"
     ]
    }
   ],
   "source": [
    "container=driver.find_element(By.XPATH,\"//*[@id='jobsearch']\")\n",
    "job_title=container.find_element(By.XPATH,\".//*[@id='text-input-what']\")\n",
    "title=input(\"job title/keyword:\")\n",
    "job_title.send_keys(title)\n",
    "submit=container.find_element(By.XPATH,\"//button[@type='submit']\")\n",
    "submit.click()"
   ]
  },
  {
   "cell_type": "code",
   "execution_count": 4,
   "id": "8fbcbeb5",
   "metadata": {},
   "outputs": [],
   "source": [
    "search_result=driver.find_element(By.XPATH,\"//ul[contains(@class,'jobsearch-ResultsList')]\")\n",
    "boxes=search_result.find_elements(By.XPATH,\".//td[contains(@class,'resultContent')]\")"
   ]
  },
  {
   "cell_type": "code",
   "execution_count": 5,
   "id": "1eb87df9",
   "metadata": {},
   "outputs": [],
   "source": [
    "designation=[]\n",
    "company=[]\n",
    "location=[]\n",
    "rating=[]\n",
    "joblink=[]\n",
    "salary=[]"
   ]
  },
  {
   "cell_type": "code",
   "execution_count": 6,
   "id": "f69028aa",
   "metadata": {},
   "outputs": [],
   "source": [
    "last_page = 5 #mention number of pages to scrape\n",
    "current_page = 1\n",
    "\n",
    "while current_page < last_page:\n",
    "\n",
    "    left_panel = driver.find_element(By.XPATH,\"//div[@class='jobsearch-LeftPane']\")\n",
    "    single_job_snippet =  left_panel.find_elements(By.XPATH,\".//td[@class='resultContent']\")\n",
    "\n",
    "\n",
    "\n",
    "    for single_job in single_job_snippet:\n",
    "        location.append(single_job.find_element(By.XPATH,\".//div[@class='companyLocation']\").text)\n",
    "        designation.append(single_job.find_element(By.XPATH,\".//h2\").text)\n",
    "        company.append(single_job.find_element(By.XPATH,\".//span[@class='companyName']\").text)\n",
    "        try:\n",
    "            rating.append(single_job.find_element(By.XPATH,\".//a[contains(@class,'ratingLink')]/span\").text)\n",
    "        except:\n",
    "            rating.append(\"No Rating Found\")\n",
    "        joblink.append((single_job.find_element(By.XPATH,\".//h2/a\")).get_attribute('href'))\n",
    "\n",
    "        #click on job profile\n",
    "        single_job.click()\n",
    "        time.sleep(2)\n",
    "\n",
    "        #fetch job details\n",
    "        right_panel = driver.find_element(By.XPATH,\"//div[@class='jobsearch-RightPane']\")\n",
    "        try:\n",
    "            salary.append(right_panel.find_element(By.XPATH,\".//div[@id='salaryInfoAndJobType']/span\").text)\n",
    "        except:\n",
    "            salary.append('Not Mentioned')\n",
    "\n",
    "    try:\n",
    "        current_page = current_page + 1 \n",
    "        nxt_btn = driver.find_element(By.XPATH,'//a[contains(@data-testid,\"pagination-page-next\")]')\n",
    "        nxt_btn.click()   \n",
    "        \n",
    "    except:\n",
    "        pass\n",
    "    \n",
    "    \n",
    "driver.quit()"
   ]
  },
  {
   "cell_type": "code",
   "execution_count": 7,
   "id": "04af6872",
   "metadata": {},
   "outputs": [],
   "source": [
    "df=pd.DataFrame({'Designation':designation,'Company':company,'Loation':location,'Rating':rating,'Salary':salary,'Job Application Link':joblink})\n",
    "df.to_excel('jobs.xlsx')"
   ]
  }
 ],
 "metadata": {
  "kernelspec": {
   "display_name": "Python 3",
   "language": "python",
   "name": "python3"
  },
  "language_info": {
   "codemirror_mode": {
    "name": "ipython",
    "version": 3
   },
   "file_extension": ".py",
   "mimetype": "text/x-python",
   "name": "python",
   "nbconvert_exporter": "python",
   "pygments_lexer": "ipython3",
   "version": "3.8.8"
  }
 },
 "nbformat": 4,
 "nbformat_minor": 5
}
