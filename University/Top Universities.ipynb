{
 "cells": [
  {
   "cell_type": "code",
   "execution_count": 1,
   "id": "14833719",
   "metadata": {},
   "outputs": [],
   "source": [
    "from selenium import webdriver\n",
    "from selenium.webdriver.common.by import By\n",
    "from selenium.webdriver.chrome.service import Service\n",
    "from selenium.webdriver.chrome.options import Options\n",
    "import pandas as pd\n",
    "import time\n"
   ]
  },
  {
   "cell_type": "code",
   "execution_count": 2,
   "id": "c494e838",
   "metadata": {},
   "outputs": [],
   "source": [
    "options=Options()\n",
    "options.headless=True\n",
    "options.add_argument('window-size=1920x1080')"
   ]
  },
  {
   "cell_type": "code",
   "execution_count": 3,
   "id": "b1f7f50b",
   "metadata": {},
   "outputs": [],
   "source": [
    "website = 'https://www.topuniversities.com/university-rankings/world-university-rankings/2023'\n",
    "path = Service('E:/web Scraping/chromedriver/chromedriver.exe')\n",
    "driver = webdriver.Chrome(service=path,options=options)\n",
    "driver.get(website)\n",
    "driver.maximize_window()\n"
   ]
  },
  {
   "cell_type": "code",
   "execution_count": 4,
   "id": "bf01e74b",
   "metadata": {},
   "outputs": [],
   "source": [
    "#pagination\n",
    "\n",
    "pagination = driver.find_element(By.XPATH,'//*[@id=\"alt-style-pagination\"]')\n",
    "page = pagination.find_elements(By.XPATH,'.//li')\n",
    "last_page = int(page[2].text)\n",
    "current_page = 1\n",
    "    "
   ]
  },
  {
   "cell_type": "code",
   "execution_count": 5,
   "id": "3f9d2e1a",
   "metadata": {},
   "outputs": [],
   "source": [
    "University_Name=[]\n",
    "University_Rank=[]\n",
    "University_Score=[]\n",
    "University_Location=[]\n",
    "University_Links=[]\n",
    "University_details=[]"
   ]
  },
  {
   "cell_type": "code",
   "execution_count": 6,
   "id": "1783aa65",
   "metadata": {},
   "outputs": [],
   "source": [
    "while current_page<=last_page:\n",
    "    container=driver.find_element(By.XPATH,\"//*[@id='ranking-data-load']\")\n",
    "    box=container.find_elements(By.XPATH,\".//div[@class='_qs-ranking-data-row normal-row']\")\n",
    "    \n",
    "    for university in box:\n",
    "        \n",
    "        University_Rank.append(university.find_element(By.XPATH,'.//div[@class=\"_univ-rank hide-this-in-mobile-indi \"]').text)\n",
    "        University_Name.append(university.find_element(By.XPATH,\".//a[@class='uni-link']\").text)\n",
    "        University_Score.append(university.find_element(By.XPATH,\".//span[@class='overall-score-span hide-this-in-mobile-indi']\").text)\n",
    "        University_Location.append(university.find_element(By.XPATH,\".//div[@class='location ']\").text)\n",
    "        University_Links.append(university.find_element(By.XPATH,\".//a[@class='uni-link']\").get_attribute('href'))\n",
    "        \n",
    "        \n",
    "    try:\n",
    "        next_page=driver.find_element(By.XPATH,\"//a[@class='page-link next']\")\n",
    "        next_page.click()\n",
    "    except:\n",
    "        pass\n",
    "    current_page=current_page+1\n"
   ]
  },
  {
   "cell_type": "code",
   "execution_count": 7,
   "id": "38c7c16f",
   "metadata": {},
   "outputs": [],
   "source": [
    "for link in University_Links:\n",
    "    website = link\n",
    "    path = Service('E:/web Scraping/chromedriver/chromedriver.exe')\n",
    "    driver = webdriver.Chrome(service=path,options=options)\n",
    "    driver.get(website)\n",
    "    driver.maximize_window()\n",
    "    time.sleep(3)\n",
    "    info_list = []\n",
    "    \n",
    "    try:\n",
    "        readmore = driver.find_element(By.XPATH,'//*[@id=\"p2-overview\"]/div[3]/div/div/div[1]/p/span/a')\n",
    "        readmore.click()\n",
    "        time.sleep(2)\n",
    "    except:\n",
    "        pass\n",
    "        \n",
    "    information=driver.find_elements(By.XPATH,'//*[@id=\"p2-overview\"]/div[3]/div/div/div[2]/p')\n",
    "    for paragraph in information:\n",
    "        info_list.append(paragraph.text)\n",
    "        \n",
    "    delimitor = \"\"\n",
    "    result =  [delimitor.join(info_list)]\n",
    "    University_details.extend(result)"
   ]
  },
  {
   "cell_type": "code",
   "execution_count": 8,
   "id": "a51c49cb",
   "metadata": {},
   "outputs": [],
   "source": [
    "df=pd.DataFrame({'University Rank':University_Rank,'University Name':University_Name,'University Score':University_Score,'Location':University_Location,'University Information':University_details})\n",
    "df['University Rank'] = df['University Rank'].str.replace('=', '')"
   ]
  },
  {
   "cell_type": "code",
   "execution_count": 9,
   "id": "ccab4d6b",
   "metadata": {},
   "outputs": [],
   "source": [
    "df.to_json('University_Details.json')"
   ]
  },
  {
   "cell_type": "code",
   "execution_count": 10,
   "id": "17a00aaa",
   "metadata": {},
   "outputs": [],
   "source": [
    "driver.quit()"
   ]
  }
 ],
 "metadata": {
  "kernelspec": {
   "display_name": "Python 3",
   "language": "python",
   "name": "python3"
  },
  "language_info": {
   "codemirror_mode": {
    "name": "ipython",
    "version": 3
   },
   "file_extension": ".py",
   "mimetype": "text/x-python",
   "name": "python",
   "nbconvert_exporter": "python",
   "pygments_lexer": "ipython3",
   "version": "3.8.8"
  }
 },
 "nbformat": 4,
 "nbformat_minor": 5
}
